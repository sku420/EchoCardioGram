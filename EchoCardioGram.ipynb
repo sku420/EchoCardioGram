{
 "cells": [
  {
   "cell_type": "code",
   "execution_count": 51,
   "metadata": {},
   "outputs": [],
   "source": [
    "import numpy as np\n",
    "import pandas as pd"
   ]
  },
  {
   "cell_type": "code",
   "execution_count": 52,
   "metadata": {},
   "outputs": [
    {
     "data": {
      "text/html": [
       "<div>\n",
       "<style scoped>\n",
       "    .dataframe tbody tr th:only-of-type {\n",
       "        vertical-align: middle;\n",
       "    }\n",
       "\n",
       "    .dataframe tbody tr th {\n",
       "        vertical-align: top;\n",
       "    }\n",
       "\n",
       "    .dataframe thead th {\n",
       "        text-align: right;\n",
       "    }\n",
       "</style>\n",
       "<table border=\"1\" class=\"dataframe\">\n",
       "  <thead>\n",
       "    <tr style=\"text-align: right;\">\n",
       "      <th></th>\n",
       "      <th>survival</th>\n",
       "      <th>alive</th>\n",
       "      <th>age</th>\n",
       "      <th>pericardialeffusion</th>\n",
       "      <th>fractionalshortening</th>\n",
       "      <th>epss</th>\n",
       "      <th>lvdd</th>\n",
       "      <th>wallmotion-score</th>\n",
       "      <th>wallmotion-index</th>\n",
       "      <th>mult</th>\n",
       "      <th>name</th>\n",
       "      <th>group</th>\n",
       "      <th>aliveat1</th>\n",
       "    </tr>\n",
       "  </thead>\n",
       "  <tbody>\n",
       "    <tr>\n",
       "      <th>0</th>\n",
       "      <td>11.0</td>\n",
       "      <td>0.0</td>\n",
       "      <td>71.0</td>\n",
       "      <td>0.0</td>\n",
       "      <td>0.260</td>\n",
       "      <td>9.000</td>\n",
       "      <td>4.600</td>\n",
       "      <td>14.0</td>\n",
       "      <td>1.00</td>\n",
       "      <td>1.000</td>\n",
       "      <td>name</td>\n",
       "      <td>1.0</td>\n",
       "      <td>0.0</td>\n",
       "    </tr>\n",
       "    <tr>\n",
       "      <th>1</th>\n",
       "      <td>19.0</td>\n",
       "      <td>0.0</td>\n",
       "      <td>72.0</td>\n",
       "      <td>0.0</td>\n",
       "      <td>0.380</td>\n",
       "      <td>6.000</td>\n",
       "      <td>4.100</td>\n",
       "      <td>14.0</td>\n",
       "      <td>1.70</td>\n",
       "      <td>0.588</td>\n",
       "      <td>name</td>\n",
       "      <td>1.0</td>\n",
       "      <td>0.0</td>\n",
       "    </tr>\n",
       "    <tr>\n",
       "      <th>2</th>\n",
       "      <td>16.0</td>\n",
       "      <td>0.0</td>\n",
       "      <td>55.0</td>\n",
       "      <td>0.0</td>\n",
       "      <td>0.260</td>\n",
       "      <td>4.000</td>\n",
       "      <td>3.420</td>\n",
       "      <td>14.0</td>\n",
       "      <td>1.00</td>\n",
       "      <td>1.000</td>\n",
       "      <td>name</td>\n",
       "      <td>1.0</td>\n",
       "      <td>0.0</td>\n",
       "    </tr>\n",
       "    <tr>\n",
       "      <th>3</th>\n",
       "      <td>57.0</td>\n",
       "      <td>0.0</td>\n",
       "      <td>60.0</td>\n",
       "      <td>0.0</td>\n",
       "      <td>0.253</td>\n",
       "      <td>12.062</td>\n",
       "      <td>4.603</td>\n",
       "      <td>16.0</td>\n",
       "      <td>1.45</td>\n",
       "      <td>0.788</td>\n",
       "      <td>name</td>\n",
       "      <td>1.0</td>\n",
       "      <td>0.0</td>\n",
       "    </tr>\n",
       "    <tr>\n",
       "      <th>4</th>\n",
       "      <td>19.0</td>\n",
       "      <td>1.0</td>\n",
       "      <td>57.0</td>\n",
       "      <td>0.0</td>\n",
       "      <td>0.160</td>\n",
       "      <td>22.000</td>\n",
       "      <td>5.750</td>\n",
       "      <td>18.0</td>\n",
       "      <td>2.25</td>\n",
       "      <td>0.571</td>\n",
       "      <td>name</td>\n",
       "      <td>1.0</td>\n",
       "      <td>0.0</td>\n",
       "    </tr>\n",
       "  </tbody>\n",
       "</table>\n",
       "</div>"
      ],
      "text/plain": [
       "   survival  alive   age  pericardialeffusion  fractionalshortening    epss  \\\n",
       "0      11.0    0.0  71.0                  0.0                 0.260   9.000   \n",
       "1      19.0    0.0  72.0                  0.0                 0.380   6.000   \n",
       "2      16.0    0.0  55.0                  0.0                 0.260   4.000   \n",
       "3      57.0    0.0  60.0                  0.0                 0.253  12.062   \n",
       "4      19.0    1.0  57.0                  0.0                 0.160  22.000   \n",
       "\n",
       "    lvdd  wallmotion-score  wallmotion-index   mult  name  group  aliveat1  \n",
       "0  4.600              14.0              1.00  1.000  name    1.0       0.0  \n",
       "1  4.100              14.0              1.70  0.588  name    1.0       0.0  \n",
       "2  3.420              14.0              1.00  1.000  name    1.0       0.0  \n",
       "3  4.603              16.0              1.45  0.788  name    1.0       0.0  \n",
       "4  5.750              18.0              2.25  0.571  name    1.0       0.0  "
      ]
     },
     "execution_count": 52,
     "metadata": {},
     "output_type": "execute_result"
    }
   ],
   "source": [
    "df = pd.read_csv(\"C:/Users/Sarthak/Downloads/echocardiogram (1).csv\")\n",
    "df.head()"
   ]
  },
  {
   "cell_type": "code",
   "execution_count": 53,
   "metadata": {},
   "outputs": [],
   "source": [
    "median = df['age'].median()\n",
    "df['age'].fillna(median, inplace=True)"
   ]
  },
  {
   "cell_type": "code",
   "execution_count": 54,
   "metadata": {},
   "outputs": [],
   "source": [
    "median = df['fractionalshortening'].median()\n",
    "df['fractionalshortening'].fillna(median, inplace=True)"
   ]
  },
  {
   "cell_type": "code",
   "execution_count": 55,
   "metadata": {},
   "outputs": [],
   "source": [
    "median = df['epss'].median()\n",
    "df['epss'].fillna(median, inplace=True)"
   ]
  },
  {
   "cell_type": "code",
   "execution_count": 56,
   "metadata": {},
   "outputs": [],
   "source": [
    "dfmedian = df['wallmotion-score'].median()\n",
    "df['wallmotion-score'].fillna(median, inplace=True)"
   ]
  },
  {
   "cell_type": "code",
   "execution_count": 57,
   "metadata": {},
   "outputs": [],
   "source": [
    "dfmedian = df['lvdd'].median()\n",
    "df['lvdd'].fillna(median, inplace=True)"
   ]
  },
  {
   "cell_type": "code",
   "execution_count": 58,
   "metadata": {},
   "outputs": [],
   "source": [
    "dfmedian = df['mult'].median()\n",
    "df['mult'].fillna(median, inplace=True)"
   ]
  },
  {
   "cell_type": "code",
   "execution_count": 59,
   "metadata": {},
   "outputs": [
    {
     "name": "stdout",
     "output_type": "stream",
     "text": [
      "[1.10e+01 1.90e+01 1.60e+01 5.70e+01 2.60e+01 1.30e+01 5.00e+01 2.50e+01\n",
      " 1.00e+01 5.20e+01 4.40e+01 5.00e-01 2.40e+01 2.20e+01 1.00e+00 7.50e-01\n",
      " 5.00e+00 4.80e+01 2.90e+01 2.50e-01 3.60e+01 3.00e+00 2.70e+01 3.50e+01\n",
      " 3.10e+01 3.20e+01 4.00e+01 4.60e+01 2.00e+00 3.70e+01 1.95e+01 2.00e+01\n",
      "      nan 7.00e+00 1.20e+01 4.50e+01 5.30e+01 3.80e+01 9.00e+00 4.90e+01\n",
      " 4.70e+01 4.10e+01 3.30e+01 1.50e+01 3.00e-02 2.30e+01 3.40e+01 2.10e+01\n",
      " 5.50e+01 4.00e+00 1.25e+00 2.80e+01 1.70e+01 7.50e+00] \t 53\n",
      "[ 0.  1. nan] \t 2\n",
      "[71.    72.    55.    60.    57.    68.    62.    46.    54.    77.\n",
      " 73.    69.    62.529 66.    85.    64.    35.    75.    65.    52.\n",
      " 47.    63.    61.    80.    70.    79.    56.    67.    81.    59.\n",
      " 58.    51.    50.    78.    86.    74.    53.    48.   ] \t 38\n",
      "[ 0.  1. 77. nan] \t 3\n",
      "[0.26  0.38  0.253 0.16  0.23  0.33  0.34  0.14  0.13  0.45  0.15  0.12\n",
      " 0.25  0.07  0.09  0.22  0.18  0.17  0.19  0.3   0.205 0.21  0.4   0.61\n",
      " 0.06  0.51  0.41  0.35  0.27  0.44  0.03  0.04  0.24  0.01  0.29  0.1\n",
      " 0.187 0.11  0.36  0.225 0.217 0.2   0.05  0.28  0.155 0.344 0.272 0.5\n",
      " 0.258 0.228 0.036 0.43 ] \t 52\n",
      "[ 9.     6.     4.    12.062 22.     5.    31.     8.     0.    13.\n",
      " 16.    10.    23.    12.063 11.    20.    17.    15.    12.    19.\n",
      " 12.733  5.9    7.     4.2   17.2    5.12  13.1   23.6    5.4    9.3\n",
      "  4.7   17.5   21.3   14.    14.8    9.4   24.6   15.6   18.6    9.8\n",
      " 11.9   16.4   10.3   13.2   11.4    9.7    8.8   16.1   12.2   10.2\n",
      "  7.5   30.1   17.9   21.7   19.4    7.1   16.8   25.    19.2    5.5\n",
      "  8.7   11.3    6.6    9.1   16.5    5.6    4.8    8.5   28.9   11.8\n",
      "  6.9   14.3   40.     7.6   12.1   13.6    9.2   28.6   19.1    6.8\n",
      " 25.5   12.9  ] \t 82\n",
      "[ 4.6    4.1    3.42   4.603  5.75   4.31   5.43   5.25   5.09   4.49\n",
      "  4.23   3.6    4.     3.73   5.8    4.29   4.65   5.2    5.819  5.4\n",
      "  5.39   5.46   6.06   3.48   3.85   4.17  11.     4.16   5.05   5.32\n",
      "  3.1    4.07   5.31   3.88   4.36   3.63   4.27   3.59   3.96   6.29\n",
      "  5.     5.26   3.49   5.65   6.15   4.57   4.37   5.3    4.41   5.15\n",
      "  6.78   5.02   4.96   4.68   4.75   5.57   5.78   5.62   4.72   5.95\n",
      "  4.54   4.85   4.77   4.58   6.74   4.48   4.44   6.21   4.14   4.56\n",
      "  5.16   4.04   5.36   4.02   3.87   5.47   6.73   4.69   4.55   4.87\n",
      "  3.52   5.49   4.12   6.23   4.42   3.92   4.38   4.06   6.63   4.79\n",
      "  5.86   2.32   5.04   3.66   4.51 ] \t 95\n",
      "[14.   16.   18.   12.   22.5  15.5  11.67 24.    8.   27.   19.5  13.83\n",
      "  7.5  10.    2.   11.    6.   13.    5.   21.5  15.   22.   17.5   9.\n",
      " 17.   23.   39.   12.33 10.5  16.67 17.83  5.5  13.67 16.5  21.   28.\n",
      " 11.5  13.5  12.67 15.67 12.5  26.08 18.16 19.   14.5 ] \t 45\n",
      "[1.    1.7   1.45  2.25  1.875 1.14  1.19  1.8   2.33  1.64  2.    1.333\n",
      " 1.625 1.38  1.5   1.11  1.667 1.56  1.17  3.    2.15  1.67  1.222 1.3\n",
      " 1.25  1.31  2.3     nan 1.08  1.37  1.167 1.05  1.39  1.18  2.5   1.1\n",
      " 1.367 2.18  2.39  1.15  2.1   1.09  1.36  1.41  1.83  1.04  1.27  1.06\n",
      " 1.42  2.01  1.51  1.23  1.4   2.2   1.95  1.2   1.375 1.73  1.21  1.409] \t 59\n",
      "[ 1.     0.588  0.788  0.571  0.857  1.003  0.93   0.714  0.358  0.784\n",
      "  0.429  0.71   0.36   0.57   0.64   0.43   2.    11.     0.14   0.357\n",
      "  0.786  0.428  0.928  0.812  0.642  0.785  0.28   0.643] \t 28\n",
      "['name'] \t 1\n",
      "[ 1.  2. nan] \t 2\n",
      "[ 0.  1. nan  2.] \t 3\n"
     ]
    }
   ],
   "source": [
    "for i in df.columns:\n",
    "    print(df[i].unique(),\"\\t\",df[i].nunique())"
   ]
  },
  {
   "cell_type": "code",
   "execution_count": 60,
   "metadata": {},
   "outputs": [],
   "source": [
    "median = df['aliveat1'].median()\n",
    "df['aliveat1'].fillna(median, inplace=True)"
   ]
  },
  {
   "cell_type": "code",
   "execution_count": 61,
   "metadata": {},
   "outputs": [],
   "source": [
    "median = df['group'].median()\n",
    "df['group'].fillna(median, inplace=True)"
   ]
  },
  {
   "cell_type": "code",
   "execution_count": 62,
   "metadata": {},
   "outputs": [],
   "source": [
    "from sklearn.preprocessing import LabelEncoder\n",
    "le = LabelEncoder()\n",
    "for i in df.columns:\n",
    "    df[i] = le.fit_transform(df[i])"
   ]
  },
  {
   "cell_type": "code",
   "execution_count": 63,
   "metadata": {},
   "outputs": [],
   "source": [
    "X = df.iloc[:,:12].values\n",
    "y = df.iloc[:,12].values"
   ]
  },
  {
   "cell_type": "code",
   "execution_count": 69,
   "metadata": {},
   "outputs": [],
   "source": [
    "from sklearn.model_selection import train_test_split as tts\n",
    "from sklearn.tree import DecisionTreeClassifier"
   ]
  },
  {
   "cell_type": "code",
   "execution_count": 75,
   "metadata": {},
   "outputs": [],
   "source": [
    "X_train, X_test, y_train, y_test = tts(X, y, test_size = 0.2)"
   ]
  },
  {
   "cell_type": "code",
   "execution_count": 76,
   "metadata": {},
   "outputs": [
    {
     "data": {
      "text/plain": [
       "DecisionTreeClassifier(class_weight=None, criterion='gini', max_depth=None,\n",
       "            max_features=None, max_leaf_nodes=None,\n",
       "            min_impurity_decrease=0.0, min_impurity_split=None,\n",
       "            min_samples_leaf=1, min_samples_split=2,\n",
       "            min_weight_fraction_leaf=0.0, presort=False, random_state=None,\n",
       "            splitter='best')"
      ]
     },
     "execution_count": 76,
     "metadata": {},
     "output_type": "execute_result"
    }
   ],
   "source": [
    "clf = DecisionTreeClassifier()\n",
    "clf.fit(X_train, y_train)"
   ]
  },
  {
   "cell_type": "code",
   "execution_count": 77,
   "metadata": {},
   "outputs": [
    {
     "name": "stdout",
     "output_type": "stream",
     "text": [
      "[0 0 0 0 0 0 0 0 0 0 0 0 1 0 0 0 0 0 0 0 0 0 0 1 1 0 0]\n"
     ]
    },
    {
     "data": {
      "text/plain": [
       "0.8518518518518519"
      ]
     },
     "execution_count": 77,
     "metadata": {},
     "output_type": "execute_result"
    }
   ],
   "source": [
    "print(clf.predict(X_test))\n",
    "clf.score(X_test, y_test)"
   ]
  },
  {
   "cell_type": "code",
   "execution_count": 78,
   "metadata": {},
   "outputs": [
    {
     "data": {
      "text/plain": [
       "RandomForestClassifier(bootstrap=True, class_weight=None, criterion='gini',\n",
       "            max_depth=None, max_features='auto', max_leaf_nodes=None,\n",
       "            min_impurity_decrease=0.0, min_impurity_split=None,\n",
       "            min_samples_leaf=1, min_samples_split=2,\n",
       "            min_weight_fraction_leaf=0.0, n_estimators=3, n_jobs=None,\n",
       "            oob_score=False, random_state=None, verbose=0,\n",
       "            warm_start=False)"
      ]
     },
     "execution_count": 78,
     "metadata": {},
     "output_type": "execute_result"
    }
   ],
   "source": [
    "from sklearn.ensemble import RandomForestClassifier\n",
    "\n",
    "rf = RandomForestClassifier(n_estimators = 3)\n",
    "rf.fit(X_train, y_train)"
   ]
  },
  {
   "cell_type": "code",
   "execution_count": 79,
   "metadata": {},
   "outputs": [
    {
     "name": "stdout",
     "output_type": "stream",
     "text": [
      "[0 0 0 0 0 0 0 0 0 0 0 0 0 0 0 0 0 0 0 0 0 0 0 1 1 0 0]\n"
     ]
    },
    {
     "data": {
      "text/plain": [
       "0.8148148148148148"
      ]
     },
     "execution_count": 79,
     "metadata": {},
     "output_type": "execute_result"
    }
   ],
   "source": [
    "print(rf.predict(X_test))\n",
    "rf.score(X_test, y_test)\n"
   ]
  },
  {
   "cell_type": "code",
   "execution_count": 80,
   "metadata": {},
   "outputs": [
    {
     "data": {
      "text/plain": [
       "SVC(C=1.0, cache_size=200, class_weight=None, coef0=0.0,\n",
       "  decision_function_shape='ovr', degree=3, gamma='auto_deprecated',\n",
       "  kernel='linear', max_iter=-1, probability=False, random_state=None,\n",
       "  shrinking=True, tol=0.001, verbose=False)"
      ]
     },
     "execution_count": 80,
     "metadata": {},
     "output_type": "execute_result"
    }
   ],
   "source": [
    "from sklearn import svm\n",
    "\n",
    "sv = svm.SVC(kernel = 'linear')\n",
    "sv.fit(X_train, y_train)"
   ]
  },
  {
   "cell_type": "code",
   "execution_count": 81,
   "metadata": {},
   "outputs": [
    {
     "name": "stdout",
     "output_type": "stream",
     "text": [
      "[0 0 0 0 0 0 0 0 0 0 0 0 0 0 0 0 0 1 0 0 0 0 0 1 1 0 0]\n"
     ]
    },
    {
     "data": {
      "text/plain": [
       "0.7777777777777778"
      ]
     },
     "execution_count": 81,
     "metadata": {},
     "output_type": "execute_result"
    }
   ],
   "source": [
    "print(sv.predict(X_test))\n",
    "sv.score(X_test, y_test)"
   ]
  },
  {
   "cell_type": "code",
   "execution_count": null,
   "metadata": {},
   "outputs": [],
   "source": []
  }
 ],
 "metadata": {
  "kernelspec": {
   "display_name": "Python 3",
   "language": "python",
   "name": "python3"
  },
  "language_info": {
   "codemirror_mode": {
    "name": "ipython",
    "version": 3
   },
   "file_extension": ".py",
   "mimetype": "text/x-python",
   "name": "python",
   "nbconvert_exporter": "python",
   "pygments_lexer": "ipython3",
   "version": "3.6.7"
  }
 },
 "nbformat": 4,
 "nbformat_minor": 2
}
